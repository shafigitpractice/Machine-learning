{
  "cells": [
    {
      "cell_type": "code",
      "execution_count": null,
      "id": "2e71176f",
      "metadata": {
        "id": "2e71176f"
      },
      "outputs": [],
      "source": [
        "#Using import for library initialisation\n",
        "import pandas as pd\n",
        "import numpy as np\n",
        "from sklearn.model_selection import train_test_split\n",
        "from sklearn.metrics import classification_report, mean_squared_error, r2_score, mean_absolute_error\n",
        "import matplotlib.pyplot as plt\n",
        "from sklearn.preprocessing import MinMaxScaler\n",
        "from sklearn.tree import DecisionTreeClassifier\n",
        "from sklearn.ensemble import RandomForestClassifier\n",
        "from sklearn.decomposition import PCA\n",
        "from sklearn.linear_model import LogisticRegression"
      ]
    },
    {
      "cell_type": "code",
      "execution_count": null,
      "id": "36a10028",
      "metadata": {
        "id": "36a10028"
      },
      "outputs": [],
      "source": [
        "#Reading the GAIT dataset\n",
        "gait_dta=pd.read_csv(\"Gait_Data.csv\")"
      ]
    },
    {
      "cell_type": "code",
      "execution_count": null,
      "id": "fc8d3897",
      "metadata": {
        "id": "fc8d3897"
      },
      "outputs": [],
      "source": [
        "#Transfrom NA into 0\n",
        "gait_dta=gait_dta.fillna(0)"
      ]
    },
    {
      "cell_type": "code",
      "execution_count": null,
      "id": "0f6689df",
      "metadata": {
        "id": "0f6689df",
        "outputId": "001c36fa-ba46-41f4-aa47-f43f65538e83"
      },
      "outputs": [
        {
          "name": "stdout",
          "output_type": "stream",
          "text": [
            "<class 'pandas.core.frame.DataFrame'>\n",
            "RangeIndex: 181800 entries, 0 to 181799\n",
            "Data columns (total 7 columns):\n",
            " #   Column       Non-Null Count   Dtype  \n",
            "---  ------       --------------   -----  \n",
            " 0   subject      181800 non-null  int64  \n",
            " 1   replication  181800 non-null  int64  \n",
            " 2   leg          181800 non-null  int64  \n",
            " 3   joint        181800 non-null  int64  \n",
            " 4   time         181800 non-null  int64  \n",
            " 5   angle        181800 non-null  float64\n",
            " 6   condition    181800 non-null  int64  \n",
            "dtypes: float64(1), int64(6)\n",
            "memory usage: 9.7 MB\n"
          ]
        }
      ],
      "source": [
        "#Datatype information of GAIT dataset columns\n",
        "gait_dta.info()"
      ]
    },
    {
      "cell_type": "code",
      "execution_count": null,
      "id": "afb46682",
      "metadata": {
        "id": "afb46682"
      },
      "outputs": [],
      "source": [
        "# Target variable and feature variables initialisation\n",
        "feat_dta = gait_dta.drop(['condition'],axis=1)\n",
        "targ_dta = gait_dta.loc[:,'condition']"
      ]
    },
    {
      "cell_type": "code",
      "execution_count": null,
      "id": "3303550e",
      "metadata": {
        "id": "3303550e"
      },
      "outputs": [],
      "source": [
        "#Splitting the values into training set and test set\n",
        "X_train1,X_test1,Y_train1,Y_test1 = train_test_split(feat_dta, targ_dta ,test_size=0.20,random_state=10)"
      ]
    },
    {
      "cell_type": "code",
      "execution_count": null,
      "id": "423d795c",
      "metadata": {
        "id": "423d795c",
        "outputId": "0e27c9eb-e65c-4745-dd6c-be23b2f8ae98"
      },
      "outputs": [
        {
          "name": "stdout",
          "output_type": "stream",
          "text": [
            "Logistic Regression machine learning algorithms classification report->\n",
            "               precision    recall  f1-score   support\n",
            "\n",
            "           1       0.36      0.51      0.42     12018\n",
            "           2       0.48      0.06      0.11     12216\n",
            "           3       0.39      0.57      0.46     12126\n",
            "\n",
            "    accuracy                           0.38     36360\n",
            "   macro avg       0.41      0.38      0.33     36360\n",
            "weighted avg       0.41      0.38      0.33     36360\n",
            "\n",
            "Logistic Regression machine learning algorithms mean absolute error-> 0.9037128712871287\n",
            "Logistic Regression machine learning algorithms root mean square error-> 1.2123652432119187\n",
            "Logistic Regression machine learning algorithms r-squared score-> -1.2135400135066\n"
          ]
        }
      ],
      "source": [
        "#Logistic Regression machine learning algorithm\n",
        "import warnings\n",
        "with warnings.catch_warnings(record=True):\n",
        "    lreg_model = LogisticRegression()\n",
        "    lreg_model.fit(X_train1, Y_train1)\n",
        "    Y_predc1 = lreg_model.predict(X_test1)\n",
        "    print(\"Logistic Regression machine learning algorithms classification report->\\n\",classification_report(Y_test1, Y_predc1))\n",
        "    print('Logistic Regression machine learning algorithms mean absolute error->', mean_absolute_error(Y_test1, Y_predc1))\n",
        "    print('Logistic Regression machine learning algorithms root mean square error->', np.sqrt(mean_squared_error(Y_test1, Y_predc1)))\n",
        "    print('Logistic Regression machine learning algorithms r-squared score->',r2_score(Y_test1, Y_predc1))"
      ]
    },
    {
      "cell_type": "code",
      "execution_count": null,
      "id": "39130e7a",
      "metadata": {
        "id": "39130e7a",
        "outputId": "744cf24b-0121-48dc-a480-bf1b47754fd5"
      },
      "outputs": [
        {
          "name": "stdout",
          "output_type": "stream",
          "text": [
            "Random Forest machine learning algorithms classification report->\n",
            "               precision    recall  f1-score   support\n",
            "\n",
            "           1       0.59      0.60      0.59     12018\n",
            "           2       0.67      0.66      0.66     12216\n",
            "           3       0.61      0.61      0.61     12126\n",
            "\n",
            "    accuracy                           0.62     36360\n",
            "   macro avg       0.62      0.62      0.62     36360\n",
            "weighted avg       0.62      0.62      0.62     36360\n",
            "\n",
            "Random Forest machine learning algorithms mean absolute error-> 0.5308855885588559\n",
            "Random Forest machine learning algorithms root mean square error-> 0.9148421686932462\n",
            "Random Forest machine learning algorithms r-squared score-> -0.26041270420858376\n"
          ]
        }
      ],
      "source": [
        "#Random Forest machine learning algorithm\n",
        "import warnings\n",
        "with warnings.catch_warnings(record=True):\n",
        "    rforest_model = RandomForestClassifier(random_state=35)\n",
        "    rforest_model.fit(X_train1, Y_train1)\n",
        "    Y_predc2 = rforest_model.predict(X_test1)\n",
        "    print(\"Random Forest machine learning algorithms classification report->\\n\",classification_report(Y_test1, Y_predc2))\n",
        "    print('Random Forest machine learning algorithms mean absolute error->', mean_absolute_error(Y_test1, Y_predc2))\n",
        "    print('Random Forest machine learning algorithms root mean square error->', np.sqrt(mean_squared_error(Y_test1, Y_predc2)))\n",
        "    print('Random Forest machine learning algorithms r-squared score->',r2_score(Y_test1, Y_predc2))"
      ]
    },
    {
      "cell_type": "code",
      "execution_count": null,
      "id": "191f0d4c",
      "metadata": {
        "id": "191f0d4c",
        "outputId": "5a9826fe-1d15-46f8-8588-82ad1cfae4ca"
      },
      "outputs": [
        {
          "name": "stdout",
          "output_type": "stream",
          "text": [
            "Decision Tree machine learning algorithms classification report->\n",
            "               precision    recall  f1-score   support\n",
            "\n",
            "           1       0.63      0.63      0.63     12018\n",
            "           2       0.70      0.68      0.69     12216\n",
            "           3       0.65      0.65      0.65     12126\n",
            "\n",
            "    accuracy                           0.66     36360\n",
            "   macro avg       0.66      0.66      0.66     36360\n",
            "weighted avg       0.66      0.66      0.66     36360\n",
            "\n",
            "Decision Tree machine learning algorithms mean absolute error-> 0.4789053905390539\n",
            "Decision Tree machine learning algorithms root mean square error-> 0.866676186797166\n",
            "Decision Tree machine learning algorithms r-squared score-> -0.13118633513984523\n"
          ]
        }
      ],
      "source": [
        "#Decision Tree machine learning algorithm\n",
        "import warnings\n",
        "with warnings.catch_warnings(record=True):\n",
        "    dtree_model = DecisionTreeClassifier(random_state=35)\n",
        "    dtree_model.fit(X_train1, Y_train1)\n",
        "    Y_predc3 = dtree_model.predict(X_test1)\n",
        "    print(\"Decision Tree machine learning algorithms classification report->\\n\",classification_report(Y_test1, Y_predc3))\n",
        "    print('Decision Tree machine learning algorithms mean absolute error->', mean_absolute_error(Y_test1, Y_predc3))\n",
        "    print('Decision Tree machine learning algorithms root mean square error->', np.sqrt(mean_squared_error(Y_test1, Y_predc3)))\n",
        "    print('Decision Tree machine learning algorithms r-squared score->',r2_score(Y_test1, Y_predc3))"
      ]
    },
    {
      "cell_type": "code",
      "execution_count": null,
      "id": "7c2551f8",
      "metadata": {
        "id": "7c2551f8"
      },
      "outputs": [],
      "source": [
        "#PCA Clustering machine learning algorithm\n",
        "prncpl_comp = PCA()\n",
        "data = feat_dta.values\n",
        "prncpl_comp.fit(data)\n",
        "gait_pca = prncpl_comp.transform(data)"
      ]
    },
    {
      "cell_type": "code",
      "execution_count": null,
      "id": "3f42054c",
      "metadata": {
        "id": "3f42054c",
        "outputId": "f835564a-839a-4ab6-ee3f-8a319ea549ca"
      },
      "outputs": [
        {
          "data": {
            "image/png": "[encoded data removed]",
            "text/plain": [
              "<Figure size 432x288 with 1 Axes>"
            ]
          },
          "metadata": {
            "needs_background": "light"
          },
          "output_type": "display_data"
        }
      ],
      "source": [
        "#Elbow plot for PCA analysis\n",
        "import warnings\n",
        "with warnings.catch_warnings(record=True):\n",
        "    coord = plt.gca()\n",
        "    varinc_explaind = prncpl_comp.explained_variance_ratio_\n",
        "    coord.plot(varinc_explaind, marker='x')\n",
        "    coord.set_xlabel('Principal Components')\n",
        "    coord.set_ylim(0,1.)\n",
        "    coord.set_xticklabels([\"PC{}\".format(i) for i in range(7)])"
      ]
    },
    {
      "cell_type": "code",
      "execution_count": null,
      "id": "561ac6df",
      "metadata": {
        "id": "561ac6df",
        "outputId": "888069ea-b1cb-4bb4-cc2b-b01beb951d5b"
      },
      "outputs": [
        {
          "name": "stdout",
          "output_type": "stream",
          "text": [
            "Output for all the principal component variance explained: [7.71523524e-01 2.13027449e-01 7.33827594e-03 7.30967285e-03\n",
            " 5.79990313e-04 2.21087688e-04]\n"
          ]
        }
      ],
      "source": [
        "#Output for all the principal component variance explained\n",
        "print(\"Output for all the principal component variance explained:\",varinc_explaind)"
      ]
    },
    {
      "cell_type": "code",
      "execution_count": null,
      "id": "82fb21de",
      "metadata": {
        "id": "82fb21de",
        "outputId": "99e0444e-8ba0-4924-f7bd-933ea6e051df"
      },
      "outputs": [
        {
          "data": {
            "text/plain": [
              "Text(0, 0.5, 'Principal Comp2')"
            ]
          },
          "execution_count": 26,
          "metadata": {},
          "output_type": "execute_result"
        },
        {
          "data": {
            "image/png": "[encoded data removed]",
            "text/plain": [
              "<Figure size 432x288 with 1 Axes>"
            ]
          },
          "metadata": {
            "needs_background": "light"
          },
          "output_type": "display_data"
        }
      ],
      "source": [
        "#Principal Component 1 vs Principal Component 2 plot\n",
        "coord = plt.gca()\n",
        "coord.scatter(gait_pca[:,0], gait_pca[:,1])\n",
        "coord.set_xlabel('Principal Comp1')\n",
        "coord.set_ylabel('Principal Comp2')"
      ]
    },
    {
      "cell_type": "code",
      "execution_count": null,
      "id": "6f60745b",
      "metadata": {
        "id": "6f60745b"
      },
      "outputs": [],
      "source": []
    }
  ],
  "metadata": {
    "kernelspec": {
      "display_name": "Python 3 (ipykernel)",
      "language": "python",
      "name": "python3"
    },
    "language_info": {
      "codemirror_mode": {
        "name": "ipython",
        "version": 3
      },
      "file_extension": ".py",
      "mimetype": "text/x-python",
      "name": "python",
      "nbconvert_exporter": "python",
      "pygments_lexer": "ipython3",
      "version": "3.9.7"
    },
    "colab": {
      "provenance": []
    }
  },
  "nbformat": 4,
  "nbformat_minor": 5
}